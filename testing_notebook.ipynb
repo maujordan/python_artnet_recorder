{
 "cells": [
  {
   "cell_type": "code",
   "execution_count": 5,
   "metadata": {},
   "outputs": [],
   "source": [
    "\n"
   ]
  },
  {
   "cell_type": "code",
   "execution_count": 26,
   "metadata": {},
   "outputs": [],
   "source": [
    "\n",
    "def find_devices_on_network():\n",
    "    \"\"\"\n",
    "    Looks for devices in network running an \"arp -a\" command\n",
    "    Returns: list of lists [[ip1, mac1], [ip2, mac2]]\n",
    "    \"\"\"\n",
    "\n",
    "    import os\n",
    "    import re\n",
    "\n",
    "    # Corriendo arp -a desde python para encontrar dispositivos en la red\n",
    "    devices = []\n",
    "    for device in os.popen('arp -a'):\n",
    "        devices.append(device)\n",
    "\n",
    "    addresses = []\n",
    "    for device in devices:\n",
    "        # Finding ip address in string\n",
    "        ip_address = re.findall( r'[0-9]+(?:\\.[0-9]+){3}', device )\n",
    "        # Finding mac address in string\n",
    "        p = re.compile(r'(?:[0-9a-fA-F]:?){12}')\n",
    "        mac_address = re.findall(p, device)\n",
    "        \n",
    "        current_address = []\n",
    "        if len(ip_address) > 0:\n",
    "            current_address.append(ip_address)\n",
    "        else:\n",
    "            current_address.append(\"No ip address for device\")\n",
    "\n",
    "        if len(mac_address) > 0:\n",
    "            current_address.append(mac_address)\n",
    "        else:\n",
    "            current_address.append(\"No mac address for device\")\n",
    "\n",
    "        addresses.append(current_address)\n",
    "\n",
    "    addresses = sorted(addresses, key=lambda x: x[0]) # ordenando lista por ip \n",
    "\n",
    "    return addresses\n"
   ]
  },
  {
   "cell_type": "code",
   "execution_count": 27,
   "metadata": {},
   "outputs": [
    {
     "data": {
      "text/plain": [
       "[[['192.168.100.1'], ['6c:d7:19:bb:b9:98']],\n",
       " [['192.168.100.6'], ['bc:d0:74:f2:b9:d1']]]"
      ]
     },
     "execution_count": 27,
     "metadata": {},
     "output_type": "execute_result"
    }
   ],
   "source": [
    "find_devices_on_network()"
   ]
  },
  {
   "cell_type": "code",
   "execution_count": 22,
   "metadata": {},
   "outputs": [
    {
     "data": {
      "text/plain": [
       "[[1, 4, 7], [2, 59, 8], [3, 6, 9]]"
      ]
     },
     "execution_count": 22,
     "metadata": {},
     "output_type": "execute_result"
    }
   ],
   "source": [
    "\n"
   ]
  }
 ],
 "metadata": {
  "kernelspec": {
   "display_name": "Python 3.9.2 ('artnet_recorder_env': venv)",
   "language": "python",
   "name": "python3"
  },
  "language_info": {
   "codemirror_mode": {
    "name": "ipython",
    "version": 3
   },
   "file_extension": ".py",
   "mimetype": "text/x-python",
   "name": "python",
   "nbconvert_exporter": "python",
   "pygments_lexer": "ipython3",
   "version": "3.9.2"
  },
  "orig_nbformat": 4,
  "vscode": {
   "interpreter": {
    "hash": "d90fdb829f4f4e6d69e1a6d05b1720b0fe9e10cd755c1bc2ddb519372571c6bf"
   }
  }
 },
 "nbformat": 4,
 "nbformat_minor": 2
}
