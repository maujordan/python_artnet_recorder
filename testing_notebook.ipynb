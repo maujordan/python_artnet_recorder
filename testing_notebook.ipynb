{
 "cells": [
  {
   "cell_type": "code",
   "execution_count": 10,
   "metadata": {},
   "outputs": [],
   "source": [
    "from fastapi import FastAPI, Request, BackgroundTasks\n",
    "from fastapi.templating import Jinja2Templates\n",
    "from fastapi.staticfiles import StaticFiles\n",
    "from pydantic import BaseModel\n",
    "import uvicorn\n",
    "import inspect\n",
    "# User functions\n",
    "from main_send_recording import broadcast_recording\n",
    "from main_record_artnet import record_artnet\n",
    "from utils.utils import *\n",
    "import re\n",
    "\n",
    "dir_path = os.path.abspath('')\n",
    "\n"
   ]
  },
  {
   "cell_type": "code",
   "execution_count": 36,
   "metadata": {},
   "outputs": [],
   "source": [
    "# Files and folders names\n",
    "config_file_name = \"config.json\" # Nombre del config file\n",
    "descriptions_file_name = \"descriptions.json\" # Nombre del file que contiene descrpciones de las grabaciones\n",
    "recordings_folder_name = \"recordings\" # Nombre del recordings folder\n",
    "states_file_name = \"states.json\" # ombre del archivo que guarda estados\n",
    "static_folder_name = \"static\"\n",
    "\n",
    "# Paths\n",
    "dir_path = os.path.abspath('')\n",
    "recordings_path = os.path.join(dir_path, recordings_folder_name) \n",
    "config_path = os.path.join(dir_path, config_file_name)\n",
    "states_path = os.path.join(dir_path, states_file_name)\n",
    "static_folder_path = os.path.join(dir_path, static_folder_name)\n",
    "descriptions_path = os.path.join(dir_path, descriptions_file_name)\n",
    "# Json\n",
    "json_config = get_json_file(config_path) \n",
    "json_states = get_json_file(states_path) "
   ]
  },
  {
   "cell_type": "code",
   "execution_count": 37,
   "metadata": {},
   "outputs": [
    {
     "data": {
      "text/plain": [
       "'/home/maujordan/Documents/python_artnet_recorder/descriptions.json'"
      ]
     },
     "execution_count": 37,
     "metadata": {},
     "output_type": "execute_result"
    }
   ],
   "source": [
    "# Variables funcion\n",
    "recordings_path\n",
    "descriptions_path # default en None"
   ]
  },
  {
   "cell_type": "code",
   "execution_count": 49,
   "metadata": {},
   "outputs": [],
   "source": [
    "def get_recordings_info(recordings_path: str, descriptions_path=None):\n",
    "    \"\"\"\n",
    "    Gets information about the scenes recorded.\n",
    "    If the descriptions path is given will return a dictonary with the descriptions if they exist\n",
    "    \"\"\"\n",
    "    try:\n",
    "        recordings_list = os.listdir(recordings_path)\n",
    "        recordings_list.sort()\n",
    "\n",
    "        recordings_dir = {}\n",
    "        recordings_dir[\"info\"] = \"recording index: amount of universes\"\n",
    "        recordings_dir[\"content\"] = {}\n",
    "        for scene in recordings_list:\n",
    "            scene_number = re.findall(r'\\d+', scene)[0] # Obteniendo numero de escena\n",
    "            recordings_dir[\"content\"][scene_number] = len(os.listdir(recordings_path + '/' + scene)) # Obteniendo cantidad de universos\n",
    "\n",
    "        # Obteniendo descripciones\n",
    "        recordings_dir[\"descriptions\"] = {}\n",
    "        if descriptions_path != None:\n",
    "            for scene in recordings_list:\n",
    "                scene_number = re.findall(r'\\d+', scene)[0] # Obteniendo numero de escena\n",
    "                recordings_dir[\"descriptions\"][scene_number] = get_recording_description(scene)\n",
    "        else:\n",
    "            recordings_dir[\"descriptions\"] = None\n",
    "        return recordings_dir\n",
    "    \n",
    "    except Exception as e:\n",
    "        print(f\"There was an error in get_recordings_info() \\n{ e }\")"
   ]
  },
  {
   "cell_type": "code",
   "execution_count": 50,
   "metadata": {},
   "outputs": [
    {
     "data": {
      "text/plain": [
       "{'info': 'recording index: amount of universes',\n",
       " 'content': {'0': 1, '1': 1, '11': 0, '17': 0, '3': 1, '4': 1, '5': 4},\n",
       " 'descriptions': {'0': 'hola',\n",
       "  '1': 'descripcion 1',\n",
       "  '11': 'No description yet.',\n",
       "  '17': 'No description yet.',\n",
       "  '3': 'No description yet.',\n",
       "  '4': 'descripcion 4',\n",
       "  '5': 'No description yet.'}}"
      ]
     },
     "execution_count": 50,
     "metadata": {},
     "output_type": "execute_result"
    }
   ],
   "source": [
    "get_recordings_info(recordings_path, descriptions_path)"
   ]
  },
  {
   "cell_type": "code",
   "execution_count": null,
   "metadata": {},
   "outputs": [],
   "source": []
  }
 ],
 "metadata": {
  "kernelspec": {
   "display_name": "Python 3.9.2 ('artnet_recorder_env': venv)",
   "language": "python",
   "name": "python3"
  },
  "language_info": {
   "codemirror_mode": {
    "name": "ipython",
    "version": 3
   },
   "file_extension": ".py",
   "mimetype": "text/x-python",
   "name": "python",
   "nbconvert_exporter": "python",
   "pygments_lexer": "ipython3",
   "version": "3.9.2"
  },
  "orig_nbformat": 4,
  "vscode": {
   "interpreter": {
    "hash": "d90fdb829f4f4e6d69e1a6d05b1720b0fe9e10cd755c1bc2ddb519372571c6bf"
   }
  }
 },
 "nbformat": 4,
 "nbformat_minor": 2
}
