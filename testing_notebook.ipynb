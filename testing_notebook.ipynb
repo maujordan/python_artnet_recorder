{
 "cells": [
  {
   "cell_type": "code",
   "execution_count": 89,
   "metadata": {},
   "outputs": [],
   "source": [
    "from fastapi import FastAPI, Request, BackgroundTasks\n",
    "from fastapi.templating import Jinja2Templates\n",
    "from fastapi.staticfiles import StaticFiles\n",
    "from pydantic import BaseModel\n",
    "import uvicorn\n",
    "import inspect\n",
    "# User functions\n",
    "from main_send_recording import broadcast_recording\n",
    "from main_record_artnet import record_artnet\n",
    "from utils.utils import *\n",
    "import re\n",
    "\n"
   ]
  },
  {
   "cell_type": "code",
   "execution_count": 73,
   "metadata": {},
   "outputs": [],
   "source": [
    "def get_recording_description(scene_to_get):\n",
    "    # Check if scene exists\n",
    "    with open(\"descriptions.json\", \"r\") as jsonFile:\n",
    "        descriptions_json = json.load(jsonFile)\n",
    "\n",
    "    description = \"No description yet.\" if scene_to_get not in descriptions_json[\"descriptions\"] else descriptions_json[\"descriptions\"][scene_to_get]\n",
    "    \n",
    "    return description"
   ]
  },
  {
   "cell_type": "code",
   "execution_count": 91,
   "metadata": {},
   "outputs": [],
   "source": [
    "recordings_path = \"recordings/\"\n",
    "    \n",
    "\n",
    "recordings_list = os.listdir(recordings_path)\n",
    "recordings_list.sort()\n",
    "\n",
    "recordings_dir = {}\n",
    "recordings_dir[\"info\"] = \"\"\"recording index: {\n",
    "    \"universes\": ammount of universes\n",
    "    \"description\": description stored in descriptions.json\n",
    "}\"\"\"\n",
    "recordings_dir[\"content\"] = {}\n",
    "for i, scene in enumerate(recordings_list):\n",
    "    scene_number = re.findall(r'\\d+', scene)[0]\n",
    "    recordings_dir[\"content\"][scene_number] = {\n",
    "        \"universes\": len(os.listdir(recordings_path + '/' + scene)),\n",
    "        \"description\": get_recording_description(scene)\n",
    "    }"
   ]
  },
  {
   "cell_type": "code",
   "execution_count": 92,
   "metadata": {},
   "outputs": [
    {
     "data": {
      "text/plain": [
       "{'0': {'universes': 1, 'description': 'descripcion 0'},\n",
       " '1': {'universes': 1, 'description': 'descripcion 1'},\n",
       " '11': {'universes': 0, 'description': 'No description yet.'},\n",
       " '17': {'universes': 0, 'description': 'No description yet.'},\n",
       " '3': {'universes': 1, 'description': 'No description yet.'},\n",
       " '4': {'universes': 1, 'description': 'descripcion 4'},\n",
       " '5': {'universes': 4, 'description': 'No description yet.'}}"
      ]
     },
     "execution_count": 92,
     "metadata": {},
     "output_type": "execute_result"
    }
   ],
   "source": [
    "recordings_dir[\"content\"]"
   ]
  },
  {
   "cell_type": "code",
   "execution_count": 80,
   "metadata": {},
   "outputs": [
    {
     "name": "stdout",
     "output_type": "stream",
     "text": [
      "recordings/scene_0 ['000.csv']\n",
      "recordings/scene_1 ['000.csv']\n",
      "recordings/scene_11 []\n",
      "recordings/scene_17 []\n",
      "recordings/scene_3 ['000.csv']\n",
      "recordings/scene_4 ['000.csv']\n",
      "recordings/scene_5 ['002.csv', '003.csv', '000.csv', '001.csv']\n"
     ]
    }
   ],
   "source": [
    "for i, scene in enumerate(recordings_list):\n",
    "    \n",
    "    print(recordings_path + scene, os.listdir(recordings_path + '/' + scene))"
   ]
  },
  {
   "cell_type": "code",
   "execution_count": 75,
   "metadata": {},
   "outputs": [
    {
     "data": {
      "text/plain": [
       "{'0': {'universes': 1, 'description': 'descripcion 0'},\n",
       " '1': {'universes': 0, 'description': 'No description yet.'},\n",
       " '7': {'universes': 0, 'description': 'No description yet.'},\n",
       " '3': {'universes': 1, 'description': 'No description yet.'},\n",
       " '4': {'universes': 1, 'description': 'descripcion 4'},\n",
       " '5': {'universes': 4, 'description': 'No description yet.'}}"
      ]
     },
     "execution_count": 75,
     "metadata": {},
     "output_type": "execute_result"
    }
   ],
   "source": [
    "recordings_info = recordings_dir[\"content\"]\n",
    "recordings_info\n"
   ]
  },
  {
   "cell_type": "code",
   "execution_count": null,
   "metadata": {},
   "outputs": [],
   "source": []
  }
 ],
 "metadata": {
  "kernelspec": {
   "display_name": "Python 3.9.2 ('artnet_recorder_env': venv)",
   "language": "python",
   "name": "python3"
  },
  "language_info": {
   "codemirror_mode": {
    "name": "ipython",
    "version": 3
   },
   "file_extension": ".py",
   "mimetype": "text/x-python",
   "name": "python",
   "nbconvert_exporter": "python",
   "pygments_lexer": "ipython3",
   "version": "3.9.2"
  },
  "orig_nbformat": 4,
  "vscode": {
   "interpreter": {
    "hash": "d90fdb829f4f4e6d69e1a6d05b1720b0fe9e10cd755c1bc2ddb519372571c6bf"
   }
  }
 },
 "nbformat": 4,
 "nbformat_minor": 2
}
