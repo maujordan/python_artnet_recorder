{
 "cells": [
  {
   "cell_type": "code",
   "execution_count": 2,
   "metadata": {},
   "outputs": [
    {
     "ename": "NameError",
     "evalue": "name '__file__' is not defined",
     "output_type": "error",
     "traceback": [
      "\u001b[0;31m---------------------------------------------------------------------------\u001b[0m",
      "\u001b[0;31mNameError\u001b[0m                                 Traceback (most recent call last)",
      "Cell \u001b[0;32mIn [2], line 12\u001b[0m\n\u001b[1;32m      7\u001b[0m sys\u001b[39m.\u001b[39mexcepthook \u001b[39m=\u001b[39m ultratb\u001b[39m.\u001b[39mFormattedTB(mode\u001b[39m=\u001b[39m\u001b[39m'\u001b[39m\u001b[39mVerbose\u001b[39m\u001b[39m'\u001b[39m, color_scheme\u001b[39m=\u001b[39m\u001b[39m'\u001b[39m\u001b[39mLinux\u001b[39m\u001b[39m'\u001b[39m, call_pdb\u001b[39m=\u001b[39m\u001b[39mFalse\u001b[39;00m) \u001b[39m# Errores en color\u001b[39;00m\n\u001b[1;32m     11\u001b[0m \u001b[39m# Files de configuracion\u001b[39;00m\n\u001b[0;32m---> 12\u001b[0m dirname \u001b[39m=\u001b[39m os\u001b[39m.\u001b[39mpath\u001b[39m.\u001b[39mdirname(\u001b[39m__file__\u001b[39;49m)\n\u001b[1;32m     13\u001b[0m data \u001b[39m=\u001b[39m json\u001b[39m.\u001b[39mload(\u001b[39mopen\u001b[39m(os\u001b[39m.\u001b[39mpath\u001b[39m.\u001b[39mjoin(dirname, \u001b[39m'\u001b[39m\u001b[39mconfig.json\u001b[39m\u001b[39m'\u001b[39m)))\n",
      "\u001b[0;31mNameError\u001b[0m: name '__file__' is not defined"
     ]
    }
   ],
   "source": [
    "from stupidArtnet import StupidArtnetServer\n",
    "import json\n",
    "import os\n",
    "from csv import writer\n",
    "import sys\n",
    "from IPython.core import ultratb\n",
    "sys.excepthook = ultratb.FormattedTB(mode='Verbose', color_scheme='Linux', call_pdb=False) # Errores en color\n",
    "\n",
    "\n",
    "\n",
    "# Files de configuracion\n",
    "dirname = os.path.dirname(__file__)\n",
    "data = json.load(open(os.path.join(dirname, 'config.json')))\n"
   ]
  },
  {
   "cell_type": "code",
   "execution_count": null,
   "metadata": {},
   "outputs": [],
   "source": [
    "import os\n",
    "path = \"pythonprog\"\n",
    "# Check whether the specified path exists or not\n",
    "isExist = os.path.exists(path)"
   ]
  },
  {
   "cell_type": "code",
   "execution_count": null,
   "metadata": {},
   "outputs": [],
   "source": []
  }
 ],
 "metadata": {
  "kernelspec": {
   "display_name": "Python 3.9.2 32-bit",
   "language": "python",
   "name": "python3"
  },
  "language_info": {
   "codemirror_mode": {
    "name": "ipython",
    "version": 3
   },
   "file_extension": ".py",
   "mimetype": "text/x-python",
   "name": "python",
   "nbconvert_exporter": "python",
   "pygments_lexer": "ipython3",
   "version": "3.9.2"
  },
  "orig_nbformat": 4,
  "vscode": {
   "interpreter": {
    "hash": "e7370f93d1d0cde622a1f8e1c04877d8463912d04d973331ad4851f04de6915a"
   }
  }
 },
 "nbformat": 4,
 "nbformat_minor": 2
}
